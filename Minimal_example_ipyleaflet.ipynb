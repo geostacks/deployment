{
 "cells": [
  {
   "cell_type": "code",
   "execution_count": 1,
   "id": "usual-stock",
   "metadata": {},
   "outputs": [],
   "source": [
    "# Autoreload extension\n",
    "%load_ext autoreload\n",
    "%autoreload 2"
   ]
  },
  {
   "cell_type": "code",
   "execution_count": 2,
   "id": "powerful-jerusalem",
   "metadata": {},
   "outputs": [
    {
     "name": "stdout",
     "output_type": "stream",
     "text": [
      "Populating the interactive namespace from numpy and matplotlib\n"
     ]
    }
   ],
   "source": [
    "%pylab inline"
   ]
  },
  {
   "cell_type": "code",
   "execution_count": 3,
   "id": "critical-mumbai",
   "metadata": {},
   "outputs": [
    {
     "data": {
      "text/plain": [
       "[<matplotlib.lines.Line2D at 0x7f5b302c72b0>]"
      ]
     },
     "execution_count": 3,
     "metadata": {},
     "output_type": "execute_result"
    },
    {
     "data": {
      "image/png": "[encoded data removed]",
      "text/plain": [
       "<Figure size 432x288 with 1 Axes>"
      ]
     },
     "metadata": {
      "needs_background": "light"
     },
     "output_type": "display_data"
    }
   ],
   "source": [
    "# Verify plotting works\n",
    "plot(range(10))"
   ]
  },
  {
   "cell_type": "code",
   "execution_count": 4,
   "id": "choice-commercial",
   "metadata": {},
   "outputs": [
    {
     "ename": "ModuleNotFoundError",
     "evalue": "No module named 'geopandas'",
     "output_type": "error",
     "traceback": [
      "\u001b[0;31m---------------------------------------------------------------------------\u001b[0m",
      "\u001b[0;31mModuleNotFoundError\u001b[0m                       Traceback (most recent call last)",
      "\u001b[0;32m<ipython-input-4-2944f6e77e2c>\u001b[0m in \u001b[0;36m<module>\u001b[0;34m\u001b[0m\n\u001b[1;32m      1\u001b[0m \u001b[0;31m# Verify that we're using the correct kernel\u001b[0m\u001b[0;34m\u001b[0m\u001b[0;34m\u001b[0m\u001b[0;34m\u001b[0m\u001b[0m\n\u001b[0;32m----> 2\u001b[0;31m \u001b[0;32mimport\u001b[0m \u001b[0mgeopandas\u001b[0m\u001b[0;34m\u001b[0m\u001b[0;34m\u001b[0m\u001b[0m\n\u001b[0m",
      "\u001b[0;31mModuleNotFoundError\u001b[0m: No module named 'geopandas'"
     ]
    }
   ],
   "source": [
    "# Verify that we're using the correct kernel\n",
    "import geopandas"
   ]
  },
  {
   "cell_type": "code",
   "execution_count": 6,
   "id": "centered-outside",
   "metadata": {},
   "outputs": [],
   "source": [
    "# Add path to geostacks\n",
    "import sys, os\n",
    "sys.path.insert(0, '../../')"
   ]
  },
  {
   "cell_type": "code",
   "execution_count": 6,
   "id": "neutral-archives",
   "metadata": {},
   "outputs": [
    {
     "data": {
      "text/plain": [
       "'/home/espg/software/GeoStacks/doc/examples'"
      ]
     },
     "execution_count": 6,
     "metadata": {},
     "output_type": "execute_result"
    }
   ],
   "source": [
    "pwd"
   ]
  },
  {
   "cell_type": "code",
   "execution_count": 7,
   "id": "thorough-trailer",
   "metadata": {},
   "outputs": [],
   "source": [
    "# add path so it's discoverable\n",
    "sys.path.insert(0, os.path.abspath('../../_build/pip_packages/lib/python3.8/site-packages/'))"
   ]
  },
  {
   "cell_type": "code",
   "execution_count": 8,
   "id": "bored-meter",
   "metadata": {},
   "outputs": [
    {
     "name": "stdout",
     "output_type": "stream",
     "text": [
      "Collecting ipyleaflet==0.13.5\n",
      "  Using cached ipyleaflet-0.13.5-py2.py3-none-any.whl (4.9 MB)\n",
      "Collecting branca<0.5,>=0.3.1\n",
      "  Using cached branca-0.4.2-py3-none-any.whl (24 kB)\n",
      "Collecting traittypes<3,>=0.2.1\n",
      "  Using cached traittypes-0.2.1-py2.py3-none-any.whl (8.6 kB)\n",
      "Collecting shapely\n",
      "  Using cached Shapely-1.7.1-cp38-cp38-manylinux1_x86_64.whl (1.0 MB)\n",
      "Collecting ipywidgets<8,>=7.6.0\n",
      "  Using cached ipywidgets-7.6.3-py2.py3-none-any.whl (121 kB)\n",
      "Collecting jinja2\n",
      "  Using cached Jinja2-3.0.0-py3-none-any.whl (133 kB)\n",
      "Requirement already satisfied: traitlets>=4.3.1 in /nix/store/d5gk8iqkkivrwhbggq0j1l85b46yiz7y-python3-3.8.9-env/lib/python3.8/site-packages (from ipywidgets<8,>=7.6.0->ipyleaflet==0.13.5) (5.0.5)\n",
      "Collecting nbformat>=4.2.0\n",
      "  Using cached nbformat-5.1.3-py3-none-any.whl (178 kB)\n",
      "Requirement already satisfied: ipykernel>=4.5.1 in /nix/store/d5gk8iqkkivrwhbggq0j1l85b46yiz7y-python3-3.8.9-env/lib/python3.8/site-packages (from ipywidgets<8,>=7.6.0->ipyleaflet==0.13.5) (5.5.0)\n",
      "Requirement already satisfied: ipython>=4.0.0 in /nix/store/d5gk8iqkkivrwhbggq0j1l85b46yiz7y-python3-3.8.9-env/lib/python3.8/site-packages (from ipywidgets<8,>=7.6.0->ipyleaflet==0.13.5) (7.21.0)\n",
      "Collecting jupyterlab-widgets>=1.0.0\n",
      "  Using cached jupyterlab_widgets-1.0.0-py3-none-any.whl (243 kB)\n",
      "Collecting widgetsnbextension~=3.5.0\n",
      "  Using cached widgetsnbextension-3.5.1-py2.py3-none-any.whl (2.2 MB)\n",
      "Requirement already satisfied: tornado>=4.2 in /nix/store/d5gk8iqkkivrwhbggq0j1l85b46yiz7y-python3-3.8.9-env/lib/python3.8/site-packages (from ipykernel>=4.5.1->ipywidgets<8,>=7.6.0->ipyleaflet==0.13.5) (6.1)\n",
      "Requirement already satisfied: jupyter-client in /nix/store/d5gk8iqkkivrwhbggq0j1l85b46yiz7y-python3-3.8.9-env/lib/python3.8/site-packages (from ipykernel>=4.5.1->ipywidgets<8,>=7.6.0->ipyleaflet==0.13.5) (6.1.12)\n",
      "Requirement already satisfied: backcall in /nix/store/d5gk8iqkkivrwhbggq0j1l85b46yiz7y-python3-3.8.9-env/lib/python3.8/site-packages (from ipython>=4.0.0->ipywidgets<8,>=7.6.0->ipyleaflet==0.13.5) (0.2.0)\n",
      "Requirement already satisfied: pickleshare in /nix/store/d5gk8iqkkivrwhbggq0j1l85b46yiz7y-python3-3.8.9-env/lib/python3.8/site-packages (from ipython>=4.0.0->ipywidgets<8,>=7.6.0->ipyleaflet==0.13.5) (0.7.5)\n",
      "Requirement already satisfied: prompt-toolkit!=3.0.0,!=3.0.1,<3.1.0,>=2.0.0 in /nix/store/d5gk8iqkkivrwhbggq0j1l85b46yiz7y-python3-3.8.9-env/lib/python3.8/site-packages (from ipython>=4.0.0->ipywidgets<8,>=7.6.0->ipyleaflet==0.13.5) (3.0.18)\n",
      "Requirement already satisfied: jedi>=0.16 in /nix/store/d5gk8iqkkivrwhbggq0j1l85b46yiz7y-python3-3.8.9-env/lib/python3.8/site-packages (from ipython>=4.0.0->ipywidgets<8,>=7.6.0->ipyleaflet==0.13.5) (0.17.2)\n",
      "Requirement already satisfied: setuptools>=18.5 in /nix/store/d5gk8iqkkivrwhbggq0j1l85b46yiz7y-python3-3.8.9-env/lib/python3.8/site-packages (from ipython>=4.0.0->ipywidgets<8,>=7.6.0->ipyleaflet==0.13.5) (54.2.0.post0)\n",
      "Requirement already satisfied: pygments in /nix/store/d5gk8iqkkivrwhbggq0j1l85b46yiz7y-python3-3.8.9-env/lib/python3.8/site-packages (from ipython>=4.0.0->ipywidgets<8,>=7.6.0->ipyleaflet==0.13.5) (2.8.1)\n",
      "Requirement already satisfied: pexpect>4.3 in /nix/store/d5gk8iqkkivrwhbggq0j1l85b46yiz7y-python3-3.8.9-env/lib/python3.8/site-packages (from ipython>=4.0.0->ipywidgets<8,>=7.6.0->ipyleaflet==0.13.5) (4.8.0)\n",
      "Requirement already satisfied: decorator in /nix/store/d5gk8iqkkivrwhbggq0j1l85b46yiz7y-python3-3.8.9-env/lib/python3.8/site-packages (from ipython>=4.0.0->ipywidgets<8,>=7.6.0->ipyleaflet==0.13.5) (4.4.2)\n",
      "Requirement already satisfied: parso<0.9.0,>=0.8.0 in /nix/store/d5gk8iqkkivrwhbggq0j1l85b46yiz7y-python3-3.8.9-env/lib/python3.8/site-packages (from jedi>=0.16->ipython>=4.0.0->ipywidgets<8,>=7.6.0->ipyleaflet==0.13.5) (0.8.1)\n",
      "Requirement already satisfied: jupyter-core in /nix/store/d5gk8iqkkivrwhbggq0j1l85b46yiz7y-python3-3.8.9-env/lib/python3.8/site-packages (from nbformat>=4.2.0->ipywidgets<8,>=7.6.0->ipyleaflet==0.13.5) (4.7.1)\n",
      "Requirement already satisfied: ipython-genutils in /nix/store/d5gk8iqkkivrwhbggq0j1l85b46yiz7y-python3-3.8.9-env/lib/python3.8/site-packages (from nbformat>=4.2.0->ipywidgets<8,>=7.6.0->ipyleaflet==0.13.5) (0.2.0)\n",
      "Collecting jsonschema!=2.5.0,>=2.4\n",
      "  Using cached jsonschema-3.2.0-py2.py3-none-any.whl (56 kB)\n",
      "Requirement already satisfied: six>=1.11.0 in /nix/store/d5gk8iqkkivrwhbggq0j1l85b46yiz7y-python3-3.8.9-env/lib/python3.8/site-packages (from jsonschema!=2.5.0,>=2.4->nbformat>=4.2.0->ipywidgets<8,>=7.6.0->ipyleaflet==0.13.5) (1.15.0)\n",
      "Requirement already satisfied: attrs>=17.4.0 in /nix/store/d5gk8iqkkivrwhbggq0j1l85b46yiz7y-python3-3.8.9-env/lib/python3.8/site-packages (from jsonschema!=2.5.0,>=2.4->nbformat>=4.2.0->ipywidgets<8,>=7.6.0->ipyleaflet==0.13.5) (20.3.0)\n",
      "Requirement already satisfied: pyrsistent>=0.14.0 in /nix/store/d5gk8iqkkivrwhbggq0j1l85b46yiz7y-python3-3.8.9-env/lib/python3.8/site-packages (from jsonschema!=2.5.0,>=2.4->nbformat>=4.2.0->ipywidgets<8,>=7.6.0->ipyleaflet==0.13.5) (0.17.3)\n",
      "Requirement already satisfied: ptyprocess>=0.5 in /nix/store/d5gk8iqkkivrwhbggq0j1l85b46yiz7y-python3-3.8.9-env/lib/python3.8/site-packages (from pexpect>4.3->ipython>=4.0.0->ipywidgets<8,>=7.6.0->ipyleaflet==0.13.5) (0.7.0)\n",
      "Requirement already satisfied: wcwidth in /nix/store/d5gk8iqkkivrwhbggq0j1l85b46yiz7y-python3-3.8.9-env/lib/python3.8/site-packages (from prompt-toolkit!=3.0.0,!=3.0.1,<3.1.0,>=2.0.0->ipython>=4.0.0->ipywidgets<8,>=7.6.0->ipyleaflet==0.13.5) (0.2.5)\n",
      "Collecting notebook>=4.4.1\n",
      "  Using cached notebook-6.3.0-py3-none-any.whl (9.5 MB)\n",
      "Collecting nbconvert\n",
      "  Using cached nbconvert-6.0.7-py3-none-any.whl (552 kB)\n",
      "Collecting argon2-cffi\n",
      "  Using cached argon2_cffi-20.1.0-cp35-abi3-manylinux1_x86_64.whl (97 kB)\n",
      "Collecting prometheus-client\n",
      "  Using cached prometheus_client-0.10.1-py2.py3-none-any.whl (55 kB)\n",
      "Collecting terminado>=0.8.3\n",
      "  Using cached terminado-0.9.5-py3-none-any.whl (14 kB)\n",
      "Requirement already satisfied: pyzmq>=17 in /nix/store/d5gk8iqkkivrwhbggq0j1l85b46yiz7y-python3-3.8.9-env/lib/python3.8/site-packages (from notebook>=4.4.1->widgetsnbextension~=3.5.0->ipywidgets<8,>=7.6.0->ipyleaflet==0.13.5) (22.0.3)\n",
      "Collecting Send2Trash>=1.5.0\n",
      "  Using cached Send2Trash-1.5.0-py3-none-any.whl (12 kB)\n",
      "Requirement already satisfied: python-dateutil>=2.1 in /nix/store/d5gk8iqkkivrwhbggq0j1l85b46yiz7y-python3-3.8.9-env/lib/python3.8/site-packages (from jupyter-client->ipykernel>=4.5.1->ipywidgets<8,>=7.6.0->ipyleaflet==0.13.5) (2.8.1)\n",
      "Collecting cffi>=1.0.0\n",
      "  Using cached cffi-1.14.5-cp38-cp38-manylinux1_x86_64.whl (411 kB)\n",
      "Collecting pycparser\n",
      "  Using cached pycparser-2.20-py2.py3-none-any.whl (112 kB)\n",
      "Collecting MarkupSafe>=2.0.0rc2\n",
      "  Using cached MarkupSafe-2.0.0-cp38-cp38-manylinux2010_x86_64.whl (30 kB)\n",
      "Collecting testpath\n",
      "  Using cached testpath-0.4.4-py2.py3-none-any.whl (163 kB)\n",
      "Collecting jupyterlab-pygments\n",
      "  Using cached jupyterlab_pygments-0.1.2-py2.py3-none-any.whl (4.6 kB)\n",
      "Collecting mistune<2,>=0.8.1\n",
      "  Using cached mistune-0.8.4-py2.py3-none-any.whl (16 kB)\n",
      "Collecting nbclient<0.6.0,>=0.5.0\n",
      "  Using cached nbclient-0.5.3-py3-none-any.whl (82 kB)\n",
      "Collecting entrypoints>=0.2.2\n",
      "  Using cached entrypoints-0.3-py2.py3-none-any.whl (11 kB)\n",
      "Collecting bleach\n",
      "  Using cached bleach-3.3.0-py2.py3-none-any.whl (283 kB)\n",
      "Requirement already satisfied: pandocfilters>=1.4.1 in /nix/store/d5gk8iqkkivrwhbggq0j1l85b46yiz7y-python3-3.8.9-env/lib/python3.8/site-packages (from nbconvert->notebook>=4.4.1->widgetsnbextension~=3.5.0->ipywidgets<8,>=7.6.0->ipyleaflet==0.13.5) (1.4.3)\n",
      "Collecting defusedxml\n",
      "  Using cached defusedxml-0.7.1-py2.py3-none-any.whl (25 kB)\n",
      "Collecting async-generator\n",
      "  Using cached async_generator-1.10-py3-none-any.whl (18 kB)\n",
      "Collecting nest-asyncio\n",
      "  Using cached nest_asyncio-1.5.1-py3-none-any.whl (5.0 kB)\n",
      "Requirement already satisfied: webencodings in /nix/store/d5gk8iqkkivrwhbggq0j1l85b46yiz7y-python3-3.8.9-env/lib/python3.8/site-packages (from bleach->nbconvert->notebook>=4.4.1->widgetsnbextension~=3.5.0->ipywidgets<8,>=7.6.0->ipyleaflet==0.13.5) (0.5.1)\n",
      "Collecting packaging\n",
      "  Using cached packaging-20.9-py2.py3-none-any.whl (40 kB)\n",
      "Requirement already satisfied: pyparsing>=2.0.2 in /nix/store/d5gk8iqkkivrwhbggq0j1l85b46yiz7y-python3-3.8.9-env/lib/python3.8/site-packages (from packaging->bleach->nbconvert->notebook>=4.4.1->widgetsnbextension~=3.5.0->ipywidgets<8,>=7.6.0->ipyleaflet==0.13.5) (2.4.7)\n",
      "Installing collected packages: jsonschema, pycparser, packaging, nest-asyncio, nbformat, MarkupSafe, async-generator, testpath, nbclient, mistune, jupyterlab-pygments, jinja2, entrypoints, defusedxml, cffi, bleach, terminado, Send2Trash, prometheus-client, nbconvert, argon2-cffi, notebook, widgetsnbextension, jupyterlab-widgets, traittypes, shapely, ipywidgets, branca, ipyleaflet\n",
      "\u001b[33m  WARNING: The script jsonschema is installed in '../../_build/pip_packages/bin' which is not on PATH.\n",
      "  Consider adding this directory to PATH or, if you prefer to suppress this warning, use --no-warn-script-location.\u001b[0m\n",
      "\u001b[33m  WARNING: The script jupyter-trust is installed in '../../_build/pip_packages/bin' which is not on PATH.\n",
      "  Consider adding this directory to PATH or, if you prefer to suppress this warning, use --no-warn-script-location.\u001b[0m\n",
      "\u001b[33m  WARNING: The script jupyter-nbconvert is installed in '../../_build/pip_packages/bin' which is not on PATH.\n",
      "  Consider adding this directory to PATH or, if you prefer to suppress this warning, use --no-warn-script-location.\u001b[0m\n",
      "\u001b[33m  WARNING: The scripts jupyter-bundlerextension, jupyter-nbextension, jupyter-notebook and jupyter-serverextension are installed in '../../_build/pip_packages/bin' which is not on PATH.\n",
      "  Consider adding this directory to PATH or, if you prefer to suppress this warning, use --no-warn-script-location.\u001b[0m\n",
      "Successfully installed MarkupSafe-2.0.0 Send2Trash-1.5.0 argon2-cffi-20.1.0 async-generator-1.10 bleach-3.3.0 branca-0.4.2 cffi-1.14.5 defusedxml-0.7.1 entrypoints-0.3 ipyleaflet-0.13.5 ipywidgets-7.6.3 jinja2-3.0.0 jsonschema-3.2.0 jupyterlab-pygments-0.1.2 jupyterlab-widgets-1.0.0 mistune-0.8.4 nbclient-0.5.3 nbconvert-6.0.7 nbformat-5.1.3 nest-asyncio-1.5.1 notebook-6.3.0 packaging-20.9 prometheus-client-0.10.1 pycparser-2.20 shapely-1.7.1 terminado-0.9.5 testpath-0.4.4 traittypes-0.2.1 widgetsnbextension-3.5.1\n",
      "\u001b[33mWARNING: You are using pip version 21.0.1; however, version 21.1.1 is available.\n",
      "You should consider upgrading via the '/nix/store/d5gk8iqkkivrwhbggq0j1l85b46yiz7y-python3-3.8.9-env/bin/python3.8 -m pip install --upgrade pip' command.\u001b[0m\n"
     ]
    }
   ],
   "source": [
    "# Build the ipyleaflet outside of nix\n",
    "!{sys.executable} -m pip install --prefix=\"../../_build/pip_packages\" ipyleaflet==0.13.5"
   ]
  },
  {
   "cell_type": "code",
   "execution_count": 8,
   "id": "entire-finding",
   "metadata": {},
   "outputs": [],
   "source": [
    "import ipyleaflet"
   ]
  },
  {
   "cell_type": "code",
   "execution_count": 19,
   "id": "81b45d88-0690-4e35-8547-39a6eff6b80a",
   "metadata": {},
   "outputs": [
    {
     "name": "stdout",
     "output_type": "stream",
     "text": [
      "Traceback (most recent call last):\n",
      "  File \"/nix/store/knfs9dgfr3nd115vlpml2ka7f41m4y77-python3.8-notebook-6.3.0/bin/.jupyter-nbextension-wrapped\", line 9, in <module>\n",
      "    sys.exit(main())\n",
      "  File \"/nix/store/hyn2bg9zw5bbaghaqar2ss245wj40z1c-python3.8-jupyter_core-4.7.1/lib/python3.8/site-packages/jupyter_core/application.py\", line 254, in launch_instance\n",
      "    return super(JupyterApp, cls).launch_instance(argv=argv, **kwargs)\n",
      "  File \"/nix/store/d48hfzvy4jhr6p3y325j75fir7cw3ipl-python3.8-traitlets-5.0.5/lib/python3.8/site-packages/traitlets/config/application.py\", line 845, in launch_instance\n",
      "    app.start()\n",
      "  File \"/nix/store/knfs9dgfr3nd115vlpml2ka7f41m4y77-python3.8-notebook-6.3.0/lib/python3.8/site-packages/notebook/nbextensions.py\", line 980, in start\n",
      "    super().start()\n",
      "  File \"/nix/store/hyn2bg9zw5bbaghaqar2ss245wj40z1c-python3.8-jupyter_core-4.7.1/lib/python3.8/site-packages/jupyter_core/application.py\", line 243, in start\n",
      "    self.subapp.start()\n",
      "  File \"/nix/store/knfs9dgfr3nd115vlpml2ka7f41m4y77-python3.8-notebook-6.3.0/lib/python3.8/site-packages/notebook/nbextensions.py\", line 708, in start\n",
      "    self.install_extensions()\n",
      "  File \"/nix/store/knfs9dgfr3nd115vlpml2ka7f41m4y77-python3.8-notebook-6.3.0/lib/python3.8/site-packages/notebook/nbextensions.py\", line 679, in install_extensions\n",
      "    full_dests = install(self.extra_args[0],\n",
      "  File \"/nix/store/knfs9dgfr3nd115vlpml2ka7f41m4y77-python3.8-notebook-6.3.0/lib/python3.8/site-packages/notebook/nbextensions.py\", line 118, in install_nbextension\n",
      "    ensure_dir_exists(nbext)\n",
      "  File \"/nix/store/hyn2bg9zw5bbaghaqar2ss245wj40z1c-python3.8-jupyter_core-4.7.1/lib/python3.8/site-packages/jupyter_core/utils/__init__.py\", line 11, in ensure_dir_exists\n",
      "    os.makedirs(path, mode=mode)\n",
      "  File \"/nix/store/q6gfck5czr67090pwm53xrdyhpg6bx67-python3-3.8.9/lib/python3.8/os.py\", line 213, in makedirs\n",
      "    makedirs(head, exist_ok=exist_ok)\n",
      "  File \"/nix/store/q6gfck5czr67090pwm53xrdyhpg6bx67-python3-3.8.9/lib/python3.8/os.py\", line 213, in makedirs\n",
      "    makedirs(head, exist_ok=exist_ok)\n",
      "  File \"/nix/store/q6gfck5czr67090pwm53xrdyhpg6bx67-python3-3.8.9/lib/python3.8/os.py\", line 213, in makedirs\n",
      "    makedirs(head, exist_ok=exist_ok)\n",
      "  File \"/nix/store/q6gfck5czr67090pwm53xrdyhpg6bx67-python3-3.8.9/lib/python3.8/os.py\", line 223, in makedirs\n",
      "    mkdir(name, mode)\n",
      "PermissionError: [Errno 13] Permission denied: '/usr/local'\n"
     ]
    }
   ],
   "source": []
  },
  {
   "cell_type": "code",
   "execution_count": 10,
   "id": "august-rebel",
   "metadata": {},
   "outputs": [],
   "source": [
    "import ipywidgets"
   ]
  },
  {
   "cell_type": "code",
   "execution_count": 9,
   "id": "breeding-orlando",
   "metadata": {},
   "outputs": [],
   "source": [
    "from ipyleaflet import Map, Marker\n",
    "\n",
    "center = (52.204793, 360.121558)\n",
    "\n",
    "m = Map(center=center, zoom=15)\n",
    "\n",
    "marker = Marker(location=center, draggable=True)\n",
    "m.add_layer(marker);"
   ]
  },
  {
   "cell_type": "code",
   "execution_count": 13,
   "id": "peripheral-profession",
   "metadata": {},
   "outputs": [
    {
     "data": {
      "application/vnd.jupyter.widget-view+json": {
       "model_id": "55b2a067c5e9464aa01137f2983cddd0",
       "version_major": 2,
       "version_minor": 0
      },
      "text/plain": [
       "Map(bottom=690979.0, center=[52.20476633165758, 360.13535499572754], controls=(ZoomControl(options=['position'…"
      ]
     },
     "metadata": {},
     "output_type": "display_data"
    }
   ],
   "source": [
    "display(m)\n"
   ]
  },
  {
   "cell_type": "code",
   "execution_count": 11,
   "id": "exempt-developer",
   "metadata": {},
   "outputs": [
    {
     "data": {
      "text/plain": [
       "'0.13.5'"
      ]
     },
     "execution_count": 11,
     "metadata": {},
     "output_type": "execute_result"
    }
   ],
   "source": [
    "ipyleaflet.__version__"
   ]
  },
  {
   "cell_type": "code",
   "execution_count": 12,
   "id": "8245ccea-3616-46b1-b811-233996426648",
   "metadata": {},
   "outputs": [
    {
     "name": "stdout",
     "output_type": "stream",
     "text": [
      "/nix/store/6kxhv6s36p5l3jylxzwvqn4qm3fjkb63-bash-interactive-4.4-p23/bin/bash: jupyter-nbextentions: command not found\n"
     ]
    }
   ],
   "source": [
    "!jupyter-nbextentions list"
   ]
  },
  {
   "cell_type": "code",
   "execution_count": 8,
   "id": "irish-trace",
   "metadata": {},
   "outputs": [],
   "source": [
    "import ipyleaflet"
   ]
  },
  {
   "cell_type": "code",
   "execution_count": 9,
   "id": "induced-manner",
   "metadata": {},
   "outputs": [],
   "source": [
    "# Load geostacks\n",
    "from geostacks import SpatialIndexLS8\n",
    "\n",
    "# Load UI components\n",
    "import ipyleaflet as ilfl\n",
    "import ipywidgets as iwg"
   ]
  },
  {
   "cell_type": "code",
   "execution_count": 10,
   "id": "civilian-hayes",
   "metadata": {},
   "outputs": [
    {
     "name": "stdout",
     "output_type": "stream",
     "text": [
      "       path  row    lon_CTR    lat_CTR  \\\n",
      "0         1    2  -4.197763  80.002493   \n",
      "1         1    3 -10.561457  79.111023   \n",
      "2         1    4 -15.970556  78.118527   \n",
      "3         1    5 -20.471403  77.048224   \n",
      "4         1    6 -24.338152  75.902095   \n",
      "...     ...  ...        ...        ...   \n",
      "21898   233  242  44.207091  80.008794   \n",
      "21899   233  243  36.728885  80.760793   \n",
      "21900   233  244  28.123821  81.338812   \n",
      "21901   233  245  18.551148  81.705630   \n",
      "21902   233  248 -11.314870  81.338539   \n",
      "\n",
      "                                                geometry  \n",
      "0      POLYGON ((-2.73002 81.20570, 2.59456 79.71746,...  \n",
      "1      POLYGON ((-9.99477 80.33234, -4.15668 78.95795...  \n",
      "2      POLYGON ((-16.04544 79.34425, -10.01855 78.079...  \n",
      "3      POLYGON ((-20.97844 78.26901, -14.98803 77.105...  \n",
      "4      POLYGON ((-25.13378 77.11339, -19.30751 76.041...  \n",
      "...                                                  ...  \n",
      "21898  POLYGON ((51.28225 80.15426, 45.38953 78.79931...  \n",
      "21899  POLYGON ((44.27339 81.05282, 38.82326 79.58492...  \n",
      "21900  POLYGON ((35.89000 81.79801, 31.32504 80.22170...  \n",
      "21901  POLYGON ((26.54158 82.32623, 23.32388 80.66332...  \n",
      "21902  POLYGON ((-7.24108 82.42211, -4.41066 80.74283...  \n",
      "\n",
      "[21903 rows x 5 columns]\n",
      "------------------\n",
      "      path  row    lon_CTR    lat_CTR  \\\n",
      "695      8   11 -47.813174  69.606470   \n",
      "696      8   12 -49.506130  68.279699   \n",
      "782      9   11 -49.355231  69.606482   \n",
      "783      9   12 -51.046291  68.279697   \n",
      "866     10   11 -50.895321  69.606439   \n",
      "6845    81  233 -48.202833  69.606467   \n",
      "6915    82  233 -49.749759  69.606440   \n",
      "7017    83  232 -49.604053  68.279726   \n",
      "7018    83  233 -51.293647  69.606447   \n",
      "7087    84  232 -51.145138  68.279691   \n",
      "\n",
      "                                               geometry  \n",
      "695   POLYGON ((-49.04594 70.75626, -44.45141 69.997...  \n",
      "696   POLYGON ((-50.74347 69.41965, -46.36735 68.700...  \n",
      "782   POLYGON ((-50.58956 70.75716, -45.99051 69.997...  \n",
      "783   POLYGON ((-52.28549 69.42048, -47.90452 68.700...  \n",
      "866   POLYGON ((-52.13270 70.75647, -47.53033 69.996...  \n",
      "6845  POLYGON ((-44.96551 69.15807, -49.29514 68.442...  \n",
      "6915  POLYGON ((-46.51348 69.16081, -50.84713 68.444...  \n",
      "7017  POLYGON ((-46.58181 67.80603, -50.70937 67.125...  \n",
      "7018  POLYGON ((-48.05298 69.15870, -52.38942 68.442...  \n",
      "7087  POLYGON ((-48.12431 67.80870, -52.25525 67.127...  \n"
     ]
    }
   ],
   "source": [
    "ls8_index = SpatialIndexLS8('../../LANDSAT_8_C1_cornerpoints.csv')\n",
    "ls8_index.read()\n",
    "print(ls8_index.footprint)\n",
    "print('------------------')\n",
    "\n",
    "query_pt = [-50., 69.]\n",
    "idxs = ls8_index.query_pathrow(query_pt)\n",
    "print(ls8_index.footprint.loc[idxs])"
   ]
  },
  {
   "cell_type": "code",
   "execution_count": 11,
   "id": "supreme-delta",
   "metadata": {},
   "outputs": [],
   "source": [
    "class geostacks_ui():\n",
    "    \n",
    "    def __init__(self, zoom=4, query_pt=[-50., 69.], spatial_index=None):\n",
    "        \n",
    "        self.zoom = zoom\n",
    "        self.query_pt = query_pt\n",
    "        self.mainmap = None\n",
    "        self.marker = None\n",
    "        self.idxs = None\n",
    "        self.ui_title = None\n",
    "        self.prlist = []\n",
    "        self.menuleft = None     # path / row menu\n",
    "        self.pr_selection = None\n",
    "        self.map_polygon = None\n",
    "        self.spatial_index = spatial_index\n",
    "        self.output = None       # print message output (unused for now)\n",
    "        self.results = None      # store results (unused for now)\n",
    "        \n",
    "    def init_panelleft(self):\n",
    "        self.ui_title = iwg.HTML(\"<h2>Drag the marker to your region of interest</h2>\")\n",
    "        self.idxs = self.spatial_index.query_pathrow(self.query_pt)\n",
    "        self.prlist = [('{:03d}/{:03d}'.format(self.spatial_index.footprint.loc[i, 'path'], self.spatial_index.footprint.loc[i, 'row']) ,i) for i in self.idxs]\n",
    "        self.menuleft = iwg.Select(options=self.prlist, description='Path/Row:', rows=15)\n",
    "        \n",
    "    def init_map(self):\n",
    "        self.mainmap = ilfl.Map(basemap=ilfl.basemaps.Gaode.Satellite, center=[self.query_pt[-1], self.query_pt[0]], zoom=self.zoom)\n",
    "        self.marker = ilfl.Marker(location=[self.query_pt[-1], self.query_pt[0]], draggable=True)\n",
    "        self.mainmap.add_layer(self.marker)\n",
    "        self.pr_selection = self.idxs[0]\n",
    "        self.map_polygon = ilfl.WKTLayer(wkt_string=self.spatial_index.footprint.loc[self.pr_selection].geometry.wkt)\n",
    "        self.mainmap.add_layer(self.map_polygon)\n",
    "        \n",
    "    def gen_ui(self, spatial_index=None):\n",
    "        if self.spatial_index is None:\n",
    "            self.spatial_index = spatial_index\n",
    "        \n",
    "        self.init_panelleft()\n",
    "        self.init_map()\n",
    "        \n",
    "        self.marker.observe(self._on_location_changed, 'location')\n",
    "        self.menuleft.observe(self._on_menuleft_selection_changed, names='value')\n",
    "        leftside = iwg.VBox([self.ui_title, self.menuleft])\n",
    "        leftside.layout.align_items = 'center'\n",
    "        return iwg.AppLayout(left_sidebar=leftside, center=self.mainmap)\n",
    "\n",
    "    # ==== leftmenu update when map marker loc changes\n",
    "    \n",
    "    def _on_location_changed(self, event):\n",
    "        self.query_pt = [self.marker.location[-1], self.marker.location[0]]\n",
    "        self.idxs = self.spatial_index.query_pathrow(self.query_pt)\n",
    "        self.prlist = [('{:03d}/{:03d}'.format(self.spatial_index.footprint.loc[i, 'path'], self.spatial_index.footprint.loc[i, 'row']) ,i) for i in self.idxs]\n",
    "        self.menuleft.options = self.prlist\n",
    "        \n",
    "    # ==== map polygon update when leftmenu selection changes\n",
    "\n",
    "    def _on_menuleft_selection_changed(self, change):\n",
    "        self.pr_selection = change['new']\n",
    "        self.map_polygon.wkt_string=self.spatial_index.footprint.loc[self.pr_selection].geometry.wkt\n"
   ]
  },
  {
   "cell_type": "code",
   "execution_count": 12,
   "id": "imported-keyboard",
   "metadata": {},
   "outputs": [
    {
     "data": {
      "application/vnd.jupyter.widget-view+json": {
       "model_id": "d42ce2f76e304d64a1affb4a57dc6627",
       "version_major": 2,
       "version_minor": 0
      },
      "text/plain": [
       "AppLayout(children=(VBox(children=(HTML(value='<h2>Drag the marker to your region of interest</h2>'), Select(d…"
      ]
     },
     "metadata": {},
     "output_type": "display_data"
    }
   ],
   "source": [
    "cpanel = geostacks_ui(spatial_index=ls8_index)\n",
    "cpanel.gen_ui()"
   ]
  },
  {
   "cell_type": "code",
   "execution_count": null,
   "id": "sapphire-madonna",
   "metadata": {},
   "outputs": [],
   "source": []
  }
 ],
 "metadata": {
  "kernelspec": {
   "display_name": "Python3 - python",
   "language": "python",
   "name": "ipython_python"
  },
  "language_info": {
   "codemirror_mode": {
    "name": "ipython",
    "version": 3
   },
   "file_extension": ".py",
   "mimetype": "text/x-python",
   "name": "python",
   "nbconvert_exporter": "python",
   "pygments_lexer": "ipython3",
   "version": "3.8.9"
  }
 },
 "nbformat": 4,
 "nbformat_minor": 5
}
